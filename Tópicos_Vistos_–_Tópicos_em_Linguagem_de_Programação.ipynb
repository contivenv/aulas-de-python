{
  "cells": [
    {
      "cell_type": "markdown",
      "metadata": {
        "colab_type": "text",
        "id": "view-in-github"
      },
      "source": [
        "<a href=\"https://colab.research.google.com/github/contivenv/aulas-de-python/blob/main/T%C3%B3picos_Vistos_%E2%80%93_T%C3%B3picos_em_Linguagem_de_Programa%C3%A7%C3%A3o.ipynb\" target=\"_parent\"><img src=\"https://colab.research.google.com/assets/colab-badge.svg\" alt=\"Open In Colab\"/></a>"
      ]
    },
    {
      "cell_type": "markdown",
      "metadata": {
        "id": "LYez99lgMFOi"
      },
      "source": [
        "## Primeira Parte\n",
        "\n",
        "### Sintaxe e Uso Base\n",
        "A sintaxe do Python é conhecida por sua legibilidade e simplicidade. Usa indentação (espaços ou tabs) para definir blocos de código, em vez de chaves ou palavras-chave.\n",
        "\n",
        "**Exemplo:**"
      ]
    },
    {
      "cell_type": "code",
      "execution_count": null,
      "metadata": {
        "id": "W9YIi03VMFOm"
      },
      "outputs": [],
      "source": [
        "# Isto é um comentário\n",
        "print(\"Olá, Mundo!\") # Imprime uma mensagem na tela\n",
        "\n",
        "nome_do_usuario = \"Maria\"\n",
        "idade_do_usuario = 30\n",
        "print(f\"Usuário: {nome_do_usuario}, Idade: {idade_do_usuario}\")"
      ]
    },
    {
      "cell_type": "markdown",
      "metadata": {
        "id": "qBK9JG-zMFOn"
      },
      "source": [
        "### Alocação de Variáveis\n",
        "Em Python, você não precisa declarar o tipo de uma variável. O tipo é inferido no momento da atribuição. [cite: 1]\n",
        "\n",
        "**Exemplo:**"
      ]
    },
    {
      "cell_type": "code",
      "execution_count": null,
      "metadata": {
        "id": "pXgqaYyHMFOo"
      },
      "outputs": [],
      "source": [
        "numero = 10          # Inteiro\n",
        "saldo = 150.75       # Ponto flutuante (float)\n",
        "nome = \"João\"        # String (texto)\n",
        "is_aprovado = True   # Booleano (verdadeiro ou falso)\n",
        "\n",
        "print(type(numero))\n",
        "print(type(saldo))\n",
        "print(type(nome))\n",
        "print(type(is_aprovado))"
      ]
    },
    {
      "cell_type": "markdown",
      "metadata": {
        "id": "YFt4-mC-MFOo"
      },
      "source": [
        "### Criação de Funções\n",
        "Funções são blocos de código reutilizáveis que realizam uma tarefa específica. São definidas usando a palavra-chave `def`. [cite: 1]\n",
        "\n",
        "**Exemplo:**"
      ]
    },
    {
      "cell_type": "code",
      "execution_count": null,
      "metadata": {
        "id": "YyO9iIGhMFOp"
      },
      "outputs": [],
      "source": [
        "def saudacao(nome):\n",
        "  \"\"\"Esta função saúda a pessoa passada como parâmetro.\"\"\"\n",
        "  print(f\"Olá, {nome}!\")\n",
        "\n",
        "saudacao(\"Ana\")  # Chamando a função\n",
        "\n",
        "def somar(a, b):\n",
        "  return a + b\n",
        "\n",
        "resultado = somar(5, 3)\n",
        "print(f\"A soma é: {resultado}\")"
      ]
    },
    {
      "cell_type": "markdown",
      "metadata": {
        "id": "r5q-IwFKMFOq"
      },
      "source": [
        "### Laços de Repetição\n",
        "Laços são usados para executar um bloco de código repetidamente. Os principais são `for` (para iterar sobre sequências) e `while` (para repetir enquanto uma condição for verdadeira). [cite: 1]\n",
        "\n",
        "**Exemplo `for`:**"
      ]
    },
    {
      "cell_type": "code",
      "execution_count": null,
      "metadata": {
        "id": "qPXb9b1mMFOq"
      },
      "outputs": [],
      "source": [
        "# Iterando sobre uma lista\n",
        "frutas = [\"maçã\", \"banana\", \"cereja\"]\n",
        "for fruta in frutas:\n",
        "  print(fruta)\n",
        "\n",
        "# Iterando sobre um intervalo de números\n",
        "for i in range(5):  # de 0 a 4\n",
        "  print(i)"
      ]
    },
    {
      "cell_type": "markdown",
      "metadata": {
        "id": "edDuTH7CMFOr"
      },
      "source": [
        "**Exemplo `while`:**"
      ]
    },
    {
      "cell_type": "code",
      "execution_count": null,
      "metadata": {
        "id": "buK24FDLMFOr"
      },
      "outputs": [],
      "source": [
        "contador = 0\n",
        "while contador < 5:\n",
        "  print(contador)\n",
        "  contador += 1  # Importante para evitar um loop infinito"
      ]
    },
    {
      "cell_type": "markdown",
      "metadata": {
        "id": "3aPFlCRCMFOr"
      },
      "source": [
        "### Condicionais\n",
        "Permitem que o programa execute diferentes ações com base em diferentes condições, usando `if`, `elif` (senão se), e `else` (senão). [cite: 1]\n",
        "\n",
        "**Exemplo:**"
      ]
    },
    {
      "cell_type": "code",
      "execution_count": null,
      "metadata": {
        "id": "FnWLdaq7MFOs"
      },
      "outputs": [],
      "source": [
        "idade = 18\n",
        "if idade < 18:\n",
        "  print(\"Menor de idade\")\n",
        "elif idade == 18:\n",
        "  print(\"Tem 18 anos\")\n",
        "else:\n",
        "  print(\"Maior de idade\")\n",
        "\n",
        "temperatura = 25\n",
        "if temperatura > 20 and temperatura < 30:\n",
        "    print(\"Temperatura agradável!\")"
      ]
    },
    {
      "cell_type": "markdown",
      "metadata": {
        "id": "ilZPl6bAMFOs"
      },
      "source": [
        "### Coleções\n",
        "\n",
        "#### Listas (Lists)\n",
        "Coleções ordenadas e mutáveis de itens. Podem conter itens de tipos diferentes.\n",
        "\n",
        "**Exemplo:**"
      ]
    },
    {
      "cell_type": "code",
      "execution_count": null,
      "metadata": {
        "id": "5LBpMvJWMFOs"
      },
      "outputs": [],
      "source": [
        "minha_lista = [1, \"Python\", 3.14, True]\n",
        "print(minha_lista)\n",
        "print(minha_lista[0])        # Acessa o primeiro item (índice 0)\n",
        "minha_lista.append(\"novo\")   # Adiciona um item ao final\n",
        "print(minha_lista)\n",
        "minha_lista[1] = \"Java\"      # Modifica um item\n",
        "print(minha_lista)\n",
        "del minha_lista[2]           # Remove um item pelo índice\n",
        "print(minha_lista)"
      ]
    },
    {
      "cell_type": "markdown",
      "metadata": {
        "id": "jq_cm2lrMFOs"
      },
      "source": [
        "#### Tuplas (Tuples)\n",
        "Coleções ordenadas e **imutáveis** de itens. Uma vez criadas, não podem ser alteradas.\n",
        "\n",
        "**Exemplo:**"
      ]
    },
    {
      "cell_type": "code",
      "execution_count": null,
      "metadata": {
        "id": "O40I-XZUMFOs"
      },
      "outputs": [],
      "source": [
        "minha_tupla = (1, \"Python\", 3.14)\n",
        "print(minha_tupla)\n",
        "print(minha_tupla[1])     # Acessa o segundo item\n",
        "\n",
        "# Tentativa de modificar uma tupla resultará em erro:\n",
        "# minha_tupla[0] = 2  # Isso geraria um TypeError"
      ]
    },
    {
      "cell_type": "markdown",
      "metadata": {
        "id": "5Kv0qyXTMFOt"
      },
      "source": [
        "#### Conjuntos (Sets)\n",
        "Coleções **não ordenadas** de itens **únicos**. Úteis para operações matemáticas de conjuntos como união, interseção, etc.\n",
        "\n",
        "**Exemplo:**"
      ]
    },
    {
      "cell_type": "code",
      "execution_count": null,
      "metadata": {
        "id": "0ljRiCe4MFOt"
      },
      "outputs": [],
      "source": [
        "meu_conjunto = {1, 2, 3, 2, 1} # Elementos duplicados são ignorados\n",
        "print(meu_conjunto)          # A ordem pode variar\n",
        "\n",
        "conjunto_a = {1, 2, 3}\n",
        "conjunto_b = {3, 4, 5}\n",
        "\n",
        "print(f\"União: {conjunto_a.union(conjunto_b)}\")\n",
        "print(f\"Interseção: {conjunto_a.intersection(conjunto_b)}\")\n",
        "print(f\"Diferença (A - B): {conjunto_a.difference(conjunto_b)}\")"
      ]
    },
    {
      "cell_type": "markdown",
      "metadata": {
        "id": "_65fjF86MFOt"
      },
      "source": [
        "#### Dicionários (Dictionaries)\n",
        "Coleções não ordenadas (em Python < 3.7, ordenadas a partir do Python 3.7+) de pares chave-valor.\n",
        "\n",
        "**Exemplo:**"
      ]
    },
    {
      "cell_type": "code",
      "execution_count": null,
      "metadata": {
        "id": "2UyQeBOgMFOt"
      },
      "outputs": [],
      "source": [
        "meu_dicionario = {\n",
        "    \"nome\": \"Carlos\",\n",
        "    \"idade\": 40,\n",
        "    \"cidade\": \"São Paulo\"\n",
        "}\n",
        "print(meu_dicionario)\n",
        "print(meu_dicionario[\"nome\"])  # Acessa o valor pela chave\n",
        "meu_dicionario[\"profissao\"] = \"Engenheiro\" # Adiciona um novo par\n",
        "print(meu_dicionario)\n",
        "meu_dicionario[\"idade\"] = 41      # Modifica um valor\n",
        "print(meu_dicionario)\n",
        "del meu_dicionario[\"cidade\"]      # Remove um par chave-valor\n",
        "print(meu_dicionario)"
      ]
    },
    {
      "cell_type": "markdown",
      "metadata": {
        "id": "iawZUprfMFOt"
      },
      "source": [
        "### Classes\n",
        "Modelos para criar objetos. Objetos são instâncias de classes. Classes encapsulam dados (atributos) e funções (métodos) que operam nesses dados.\n",
        "\n",
        "#### Declaração\n",
        "Usa a palavra-chave `class`.\n",
        "\n",
        "#### Construtor (`__init__`)\n",
        "Um método especial chamado automaticamente quando um objeto é criado. Usado para inicializar os atributos do objeto.\n",
        "\n",
        "#### `self`\n",
        "Uma referência à instância atual da classe. É o primeiro argumento da maioria dos métodos de uma classe.\n",
        "\n",
        "#### Métodos\n",
        "Funções definidas dentro de uma classe que operam nos atributos do objeto.\n",
        "\n",
        "**Exemplo:**"
      ]
    },
    {
      "cell_type": "code",
      "execution_count": null,
      "metadata": {
        "id": "Bb-3e58aMFOt"
      },
      "outputs": [],
      "source": [
        "class Pessoa:\n",
        "  # Construtor\n",
        "  def __init__(self, nome, idade):\n",
        "    self.nome = nome  # Atributo da instância\n",
        "    self.idade = idade # Atributo da instância\n",
        "    print(f\"Pessoa {self.nome} criada!\")\n",
        "\n",
        "  # Método\n",
        "  def apresentar(self):\n",
        "    print(f\"Olá, meu nome é {self.nome} e tenho {self.idade} anos.\")\n",
        "\n",
        "  def envelhecer(self, anos=1):\n",
        "    self.idade += anos\n",
        "    print(f\"{self.nome} agora tem {self.idade} anos.\")\n",
        "\n",
        "# Criando objetos (instâncias) da classe Pessoa\n",
        "pessoa1 = Pessoa(\"Alice\", 30)\n",
        "pessoa2 = Pessoa(\"Bob\", 25)\n",
        "\n",
        "# Chamando métodos dos objetos\n",
        "pessoa1.apresentar()\n",
        "pessoa2.apresentar()\n",
        "\n",
        "pessoa1.envelhecer()\n",
        "pessoa1.envelhecer(5)"
      ]
    },
    {
      "cell_type": "markdown",
      "metadata": {
        "id": "NtAO1SM1MFOu"
      },
      "source": [
        "### Funções Embutidas (Built-in Functions)\n",
        "Python vem com várias funções que estão sempre disponíveis.\n",
        "\n",
        "* `all()`: Retorna `True` se todos os itens em um iterável forem verdadeiros (ou se o iterável estiver vazio)."
      ]
    },
    {
      "cell_type": "code",
      "execution_count": null,
      "metadata": {
        "id": "xUdtzlAyMFOu"
      },
      "outputs": [],
      "source": [
        "lista1 = [True, True, True]\n",
        "    lista2 = [True, False, True]\n",
        "    lista_vazia = []\n",
        "    print(f\"all(lista1): {all(lista1)}\") # True\n",
        "    print(f\"all(lista2): {all(lista2)}\") # False\n",
        "    print(f\"all(lista_vazia): {all(lista_vazia)}\") # True"
      ]
    },
    {
      "cell_type": "markdown",
      "metadata": {
        "id": "z7zzH7M4MFOu"
      },
      "source": [
        "* `any()`: Retorna `True` se algum item em um iterável for verdadeiro. Retorna `False` se o iterável estiver vazio."
      ]
    },
    {
      "cell_type": "code",
      "execution_count": null,
      "metadata": {
        "id": "lOSeBkIrMFOu"
      },
      "outputs": [],
      "source": [
        "lista1 = [False, False, True]\n",
        "    lista2 = [False, False, False]\n",
        "    lista_vazia = []\n",
        "    print(f\"any(lista1): {any(lista1)}\") # True\n",
        "    print(f\"any(lista2): {any(lista2)}\") # False\n",
        "    print(f\"any(lista_vazia): {any(lista_vazia)}\") # False"
      ]
    },
    {
      "cell_type": "markdown",
      "metadata": {
        "id": "_jpU151HMFOu"
      },
      "source": [
        "* `enumerate()`: Retorna um objeto enumerado (um iterador que produz pares de índice e valor)."
      ]
    },
    {
      "cell_type": "code",
      "execution_count": null,
      "metadata": {
        "id": "yoOJiooCMFOu"
      },
      "outputs": [],
      "source": [
        "frutas = [\"maçã\", \"banana\", \"cereja\"]\n",
        "    for indice, fruta in enumerate(frutas):\n",
        "      print(f\"Índice: {indice}, Fruta: {fruta}\")"
      ]
    },
    {
      "cell_type": "markdown",
      "metadata": {
        "id": "W6KvzPIpMFOu"
      },
      "source": [
        "* `eval()`: Avalia uma string como uma expressão Python. **Use com cuidado devido a riscos de segurança.**"
      ]
    },
    {
      "cell_type": "code",
      "execution_count": null,
      "metadata": {
        "id": "hOpFec5WMFOu"
      },
      "outputs": [],
      "source": [
        "expressao = \"5 + 3 * 2\"\n",
        "    resultado = eval(expressao)\n",
        "    print(f\"eval('{expressao}') = {resultado}\") # 11\n",
        "\n",
        "    # Exemplo perigoso - NUNCA use com input não confiável\n",
        "    # codigo_malicioso = \"__import__('os').system('echo Vulnerável!')\"\n",
        "    # eval(codigo_malicioso)"
      ]
    },
    {
      "cell_type": "markdown",
      "metadata": {
        "id": "i-somL-UMFOu"
      },
      "source": [
        "* `exec()`: Executa código Python (armazenado em uma string ou objeto de código). **Use com cuidado devido a riscos de segurança.** [cite: 1]"
      ]
    },
    {
      "cell_type": "code",
      "execution_count": null,
      "metadata": {
        "id": "YWtJZ4YEMFOv"
      },
      "outputs": [],
      "source": [
        "codigo = \"\"\"\n",
        "    x = 10\n",
        "    y = 20\n",
        "    print(f'x + y = {x + y}')\n",
        "    \"\"\"\n",
        "    exec(codigo) # Executa o bloco de código\n",
        "\n",
        "    # Exemplo perigoso - NUNCA use com input não confiável\n",
        "    # codigo_malicioso_exec = \"__import__('os').remove('arquivo_importante.txt')\"\n",
        "    # exec(codigo_malicioso_exec)"
      ]
    },
    {
      "cell_type": "markdown",
      "metadata": {
        "id": "MxN2wYxZMFOv"
      },
      "source": [
        "* `filter()`: Constrói um iterador a partir de elementos de um iterável para os quais uma função retorna verdadeiro."
      ]
    },
    {
      "cell_type": "code",
      "execution_count": null,
      "metadata": {
        "id": "a4smVz8PMFOv"
      },
      "outputs": [],
      "source": [
        "numeros = [1, 2, 3, 4, 5, 6, 7, 8, 9, 10]\n",
        "    def eh_par(numero):\n",
        "      return numero % 2 == 0\n",
        "\n",
        "    numeros_pares = list(filter(eh_par, numeros))\n",
        "    print(f\"Números pares: {numeros_pares}\") # [2, 4, 6, 8, 10]"
      ]
    },
    {
      "cell_type": "markdown",
      "metadata": {
        "id": "AtodDoxOMFOv"
      },
      "source": [
        "* `map()`: Aplica uma função a todos os itens de um iterável de entrada (ou iteráveis)."
      ]
    },
    {
      "cell_type": "code",
      "execution_count": null,
      "metadata": {
        "id": "KvtjjYRyMFOv"
      },
      "outputs": [],
      "source": [
        "numeros = [1, 2, 3, 4, 5]\n",
        "    def quadrado(numero):\n",
        "      return numero ** 2\n",
        "\n",
        "    numeros_ao_quadrado = list(map(quadrado, numeros))\n",
        "    print(f\"Números ao quadrado: {numeros_ao_quadrado}\") # [1, 4, 9, 16, 25]"
      ]
    },
    {
      "cell_type": "markdown",
      "metadata": {
        "id": "xKQIuyHgMFOv"
      },
      "source": [
        "* `zip()`: Agrega elementos de vários iteráveis. Retorna um iterador de tuplas, onde a i-ésima tupla contém o i-ésimo elemento de cada um dos iteráveis de argumento."
      ]
    },
    {
      "cell_type": "code",
      "execution_count": null,
      "metadata": {
        "id": "huAKfL0YMFOv"
      },
      "outputs": [],
      "source": [
        "nomes = [\"Ana\", \"Bob\", \"Carlos\"]\n",
        "    idades = [28, 22, 35]\n",
        "    cidades = [\"Rio\", \"Salvador\", \"Recife\"]\n",
        "\n",
        "    combinado = list(zip(nomes, idades, cidades))\n",
        "    print(combinado)\n",
        "    # [('Ana', 28, 'Rio'), ('Bob', 22, 'Salvador'), ('Carlos', 35, 'Recife')]"
      ]
    },
    {
      "cell_type": "markdown",
      "metadata": {
        "id": "fh0DO3TeMFOw"
      },
      "source": [
        "### Arquivos (Files)\n",
        "Operações para interagir com arquivos no sistema de arquivos.\n",
        "\n",
        "* `open()`: Abre um arquivo e retorna um objeto de arquivo correspondente. Principais modos:\n",
        "    * `'r'`: Leitura (padrão).\n",
        "    * `'w'`: Escrita (sobrescreve o arquivo se existir, cria se não existir).\n",
        "    * `'a'`: Adição (escreve no final do arquivo se existir, cria se não existir).\n",
        "    * `'b'`: Modo binário (para arquivos não textuais, como imagens).\n",
        "    * `'+'`: Modo de atualização (leitura e escrita).\n",
        "\n",
        "* `read()`: Lê o conteúdo inteiro do arquivo (ou um número especificado de bytes).\n",
        "* `readline()`: Lê uma única linha do arquivo.\n",
        "* `readlines()`: Lê todas as linhas do arquivo e as retorna como uma lista de strings.\n",
        "* `write()`: Escreve uma string no arquivo.\n",
        "* `close()`: Fecha o arquivo. É importante fechar arquivos para liberar recursos e garantir que os dados sejam gravados corretamente. [cite: 1]\n",
        "\n",
        "**Exemplo (usando `with` para garantir que o arquivo seja fechado automaticamente):**"
      ]
    },
    {
      "cell_type": "code",
      "execution_count": null,
      "metadata": {
        "id": "YsjXkDngMFO0"
      },
      "outputs": [],
      "source": [
        "# Escrevendo em um arquivo\n",
        "with open(\"meu_arquivo.txt\", \"w\") as arquivo:\n",
        "  arquivo.write(\"Olá, mundo!\\n\")\n",
        "  arquivo.write(\"Esta é a segunda linha.\\n\")\n",
        "\n",
        "# Lendo o arquivo inteiro\n",
        "with open(\"meu_arquivo.txt\", \"r\") as arquivo:\n",
        "  conteudo = arquivo.read()\n",
        "  print(\"Conteúdo lido com read():\")\n",
        "  print(conteudo)\n",
        "\n",
        "# Lendo linha por linha\n",
        "with open(\"meu_arquivo.txt\", \"r\") as arquivo:\n",
        "  print(\"\\nConteúdo lido com readline():\")\n",
        "  linha1 = arquivo.readline()\n",
        "  print(f\"Linha 1: {linha1.strip()}\") # .strip() remove \\n\n",
        "  linha2 = arquivo.readline()\n",
        "  print(f\"Linha 2: {linha2.strip()}\")\n",
        "\n",
        "# Adicionando conteúdo a um arquivo existente\n",
        "with open(\"meu_arquivo.txt\", \"a\") as arquivo:\n",
        "  arquivo.write(\"Esta linha foi adicionada.\\n\")\n",
        "\n",
        "# Verificando o conteúdo final\n",
        "with open(\"meu_arquivo.txt\", \"r\") as arquivo:\n",
        "  print(\"\\nConteúdo final do arquivo:\")\n",
        "  print(arquivo.read())"
      ]
    },
    {
      "cell_type": "markdown",
      "metadata": {
        "id": "KIUaWjokMFO0"
      },
      "source": [
        "### Exceções (Exceptions)\n",
        "Erros detectados durante a execução são chamados de exceções. Python usa blocos `try`/`except` para lidar com elas.\n",
        "\n",
        "* `try`: O bloco de código onde a exceção pode ocorrer é colocado aqui.\n",
        "* `except`: Se uma exceção ocorrer no bloco `try`, o bloco `except` correspondente é executado. Você pode especificar o tipo de exceção a ser capturada. [cite: 1]\n",
        "* `else`: Opcional. Executado se nenhuma exceção ocorrer no bloco `try`.\n",
        "* `finally`: Opcional. Executado sempre, ocorrendo ou não uma exceção. Usado para limpeza de recursos.\n",
        "* `raise`: Permite que você gere (lance) uma exceção manualmente.\n",
        "\n",
        "**Exemplo:**"
      ]
    },
    {
      "cell_type": "code",
      "execution_count": null,
      "metadata": {
        "id": "7cq6kiK0MFO0"
      },
      "outputs": [],
      "source": [
        "def dividir(a, b):\n",
        "  try:\n",
        "    resultado = a / b\n",
        "  except ZeroDivisionError:\n",
        "    print(\"Erro: Divisão por zero não é permitida!\")\n",
        "    return None\n",
        "  except TypeError:\n",
        "    print(\"Erro: Tipos de dados inválidos para divisão!\")\n",
        "    return None\n",
        "  else:\n",
        "    print(f\"O resultado da divisão é: {resultado}\")\n",
        "    return resultado\n",
        "  finally:\n",
        "    print(\"Bloco finally executado (limpeza, se necessário).\")\n",
        "\n",
        "dividir(10, 2)\n",
        "print(\"-\" * 20)\n",
        "dividir(10, 0)\n",
        "print(\"-\" * 20)\n",
        "dividir(\"dez\", 2)\n",
        "print(\"-\" * 20)\n",
        "\n",
        "def verificar_idade(idade):\n",
        "    if idade < 0:\n",
        "        raise ValueError(\"Idade não pode ser negativa.\")\n",
        "    elif idade < 18:\n",
        "        print(\"Menor de idade.\")\n",
        "    else:\n",
        "        print(\"Maior de idade.\")\n",
        "\n",
        "try:\n",
        "    verificar_idade(25)\n",
        "    verificar_idade(-5)\n",
        "except ValueError as e:\n",
        "    print(f\"Erro capturado: {e}\")"
      ]
    },
    {
      "cell_type": "markdown",
      "metadata": {
        "id": "HgqclEGMMFO0"
      },
      "source": [
        "---\n",
        "## Segunda Parte\n",
        "\n",
        "### APIs (Interfaces de Programação de Aplicativos)\n",
        "APIs permitem que diferentes softwares se comuniquem entre si. No contexto de desenvolvimento web, APIs são frequentemente usadas para buscar ou enviar dados de/para um servidor.\n",
        "\n",
        "#### Requests\n",
        "Uma biblioteca Python popular para fazer requisições HTTP (como GET, POST, PUT, DELETE, etc.) para interagir com APIs web.\n",
        "\n",
        "#### Status Code (Código de Status HTTP)\n",
        "Códigos numéricos retornados por um servidor web indicando o resultado de uma requisição HTTP. Exemplos comuns:\n",
        "* `200 OK`: Requisição bem-sucedida.\n",
        "* `201 Created`: Requisição bem-sucedida e um novo recurso foi criado.\n",
        "* `400 Bad Request`: A requisição do cliente é inválida.\n",
        "* `401 Unauthorized`: Autenticação necessária e falhou ou não foi fornecida.\n",
        "* `403 Forbidden`: O cliente não tem permissão para acessar o recurso.\n",
        "* `404 Not Found`: O recurso solicitado não foi encontrado.\n",
        "* `500 Internal Server Error`: Um erro ocorreu no servidor.\n",
        "\n",
        "#### JSON (JavaScript Object Notation)\n",
        "Um formato leve de troca de dados, fácil para humanos lerem e escreverem, e fácil para máquinas interpretarem e gerarem. É comumente usado em APIs.\n",
        "\n",
        "#### Comandos (Requests)\n",
        "\n",
        "* `requests.get()`: Envia uma requisição HTTP GET para uma URL específica. Usado para buscar dados.\n",
        "* `requests.post()`: Envia uma requisição HTTP POST para uma URL específica. Usado para enviar dados para criar ou atualizar um recurso.\n",
        "\n",
        "**Exemplo com `requests` (você precisará instalar a biblioteca: `pip install requests`):**"
      ]
    },
    {
      "cell_type": "code",
      "execution_count": null,
      "metadata": {
        "id": "Z6YFRj58MFO0"
      },
      "outputs": [],
      "source": [
        "import requests\n",
        "import json # Módulo para trabalhar com JSON\n",
        "\n",
        "# Exemplo de requisição GET\n",
        "try:\n",
        "    response_get = requests.get(\"https://jsonplaceholder.typicode.com/todos/1\")\n",
        "    response_get.raise_for_status() # Lança uma exceção para códigos de erro HTTP (4xx ou 5xx)\n",
        "\n",
        "    print(f\"Status Code (GET): {response_get.status_code}\")\n",
        "    todo_data = response_get.json() # Converte a resposta JSON para um dicionário Python\n",
        "    print(\"Dados do To-Do (GET):\")\n",
        "    print(json.dumps(todo_data, indent=2)) # Imprime o JSON formatado\n",
        "\n",
        "except requests.exceptions.RequestException as e:\n",
        "    print(f\"Erro na requisição GET: {e}\")\n",
        "\n",
        "print(\"-\" * 30)\n",
        "\n",
        "# Exemplo de requisição POST\n",
        "try:\n",
        "    novo_post_data = {\n",
        "        \"title\": \"Meu Novo Post\",\n",
        "        \"body\": \"Este é o conteúdo do meu novo post.\",\n",
        "        \"userId\": 1\n",
        "    }\n",
        "    response_post = requests.post(\"https://jsonplaceholder.typicode.com/posts\", json=novo_post_data)\n",
        "    response_post.raise_for_status()\n",
        "\n",
        "    print(f\"Status Code (POST): {response_post.status_code}\") # Geralmente 201 Created\n",
        "    post_criado_data = response_post.json()\n",
        "    print(\"Dados do Post Criado (POST):\")\n",
        "    print(json.dumps(post_criado_data, indent=2))\n",
        "\n",
        "except requests.exceptions.RequestException as e:\n",
        "    print(f\"Erro na requisição POST: {e}\")"
      ]
    },
    {
      "cell_type": "markdown",
      "metadata": {
        "id": "8hiciSa_MFO1"
      },
      "source": [
        "### Banco de Dados\n",
        "Sistemas para armazenar, gerenciar e recuperar dados de forma eficiente.\n",
        "\n",
        "#### SQLite\n",
        "Um mecanismo de banco de dados SQL leve, baseado em arquivo, que não requer um servidor separado. Ótimo para desenvolvimento e aplicações menores.\n",
        "\n",
        "#### MySQL\n",
        "Um popular sistema de gerenciamento de banco de dados relacional (RDBMS) de código aberto, baseado em servidor. Usado para aplicações maiores e mais complexas.\n",
        "\n",
        "*(Nota: Os exemplos de código se concentrarão no `sqlite3` por ser embutido no Python e não requerer instalação de servidor.)*\n",
        "\n",
        "#### Comandos (SQLite)\n",
        "\n",
        "* `sqlite3.connect()`: Estabelece uma conexão com um banco de dados SQLite. Se o arquivo do banco de dados não existir, ele será criado.\n",
        "* `cursor()`: Cria um objeto cursor, que permite executar comandos SQL.\n",
        "* `execute()`: (Não listado explicitamente, mas fundamental) Executa um comando SQL.\n",
        "* `commit()`: Salva (confirma) as transações pendentes no banco de dados.\n",
        "* `fetchall()`: Recupera todas as linhas restantes de um resultado de consulta.\n",
        "* `fetchone()`: Recupera a próxima linha de um resultado de consulta.\n",
        "* `close()`: (Não listado, mas importante) Fecha a conexão com o banco de dados.\n",
        "\n",
        "**Exemplo com `sqlite3`:**"
      ]
    },
    {
      "cell_type": "code",
      "execution_count": null,
      "metadata": {
        "id": "Iib807D8MFO1"
      },
      "outputs": [],
      "source": [
        "import sqlite3\n",
        "\n",
        "# Conectar ao banco de dados (cria o arquivo se não existir)\n",
        "conexao = None\n",
        "try:\n",
        "    conexao = sqlite3.connect(\"meu_banco.db\")\n",
        "    cursor = conexao.cursor() # Criar um cursor [cite: 2]\n",
        "\n",
        "    # Criar uma tabela\n",
        "    cursor.execute(\"\"\"\n",
        "    CREATE TABLE IF NOT EXISTS usuarios (\n",
        "        id INTEGER PRIMARY KEY AUTOINCREMENT,\n",
        "        nome TEXT NOT NULL,\n",
        "        email TEXT UNIQUE NOT NULL\n",
        "    )\n",
        "    \"\"\")\n",
        "    print(\"Tabela 'usuarios' criada ou já existente.\")\n",
        "\n",
        "    # Inserir dados (evitar SQL Injection usando placeholders '?')\n",
        "    try:\n",
        "        cursor.execute(\"INSERT INTO usuarios (nome, email) VALUES (?, ?)\", (\"Alice Wonderland\", \"alice@example.com\"))\n",
        "        cursor.execute(\"INSERT INTO usuarios (nome, email) VALUES (?, ?)\", (\"Bob The Builder\", \"bob@example.com\"))\n",
        "    except sqlite3.IntegrityError as e:\n",
        "        print(f\"Erro ao inserir dados (provavelmente email duplicado): {e}\")\n",
        "\n",
        "\n",
        "    conexao.commit() # Salvar as alterações [cite: 2]\n",
        "    print(\"Dados inseridos.\")\n",
        "\n",
        "    # Consultar dados\n",
        "    cursor.execute(\"SELECT id, nome, email FROM usuarios\")\n",
        "    print(\"\\nUsuários cadastrados:\")\n",
        "    usuarios = cursor.fetchall() # Recuperar todos os resultados [cite: 2]\n",
        "    for usuario in usuarios:\n",
        "        print(f\"ID: {usuario[0]}, Nome: {usuario[1]}, Email: {usuario[2]}\")\n",
        "\n",
        "    # Consultar um usuário específico\n",
        "    cursor.execute(\"SELECT nome, email FROM usuarios WHERE id = ?\", (1,))\n",
        "    usuario_alice = cursor.fetchone()\n",
        "    if usuario_alice:\n",
        "        print(f\"\\nUsuário com ID 1: Nome: {usuario_alice[0]}, Email: {usuario_alice[1]}\")\n",
        "\n",
        "\n",
        "except sqlite3.Error as e:\n",
        "    print(f\"Erro com o SQLite: {e}\")\n",
        "finally:\n",
        "    if conexao:\n",
        "        conexao.close() # Fechar a conexão\n",
        "        print(\"\\nConexão com o banco de dados fechada.\")"
      ]
    },
    {
      "cell_type": "markdown",
      "metadata": {
        "id": "vFI_Su0zMFO1"
      },
      "source": [
        "### Testes\n",
        "A prática de verificar se o seu código se comporta como esperado. Testes automatizados ajudam a garantir a qualidade e a encontrar bugs mais cedo.\n",
        "\n",
        "#### Assert\n",
        "Uma instrução em Python que verifica se uma condição é verdadeira. Se a condição for falsa, levanta um `AssertionError`. Útil para verificações simples e rápidas. [cite: 2]\n",
        "\n",
        "#### Unittest\n",
        "Um framework de teste embutido no Python (também conhecido como \"PyUnit\"). Permite organizar testes em classes e métodos, e fornece um conjunto rico de métodos de asserção.\n",
        "\n",
        "#### Comandos (Unittest e Assert)\n",
        "\n",
        "* `assert <igualdade>`: Verifica se uma expressão booleana é `True`. [cite: 2]"
      ]
    },
    {
      "cell_type": "code",
      "execution_count": null,
      "metadata": {
        "id": "BDYi2VnNMFO1"
      },
      "outputs": [],
      "source": [
        "x = 5\n",
        "    y = 5\n",
        "    assert x == y, \"x deveria ser igual a y\" # [cite: 2]\n",
        "\n",
        "    # z = 10\n",
        "    # assert x == z, \"x deveria ser igual a z\" # Isso levantaria um AssertionError"
      ]
    },
    {
      "cell_type": "markdown",
      "metadata": {
        "id": "D3p41xsyMFO1"
      },
      "source": [
        "* Métodos do `unittest.TestCase` (usados dentro de classes que herdam de `unittest.TestCase`):\n",
        "    * `assertEqual(a, b)`: Verifica se `a == b`. [cite: 2]\n",
        "    * `assertRaises(exception, callable, *args, **kwargs)`: Verifica se chamar `callable` com `args` e `kwargs` levanta a `exception` especificada. [cite: 2]\n",
        "    * `assertTrue(x)`: Verifica se `bool(x)` é `True`. [cite: 2]\n",
        "    * `assertFalse(x)`: Verifica se `bool(x)` é `False`. [cite: 2]\n",
        "\n",
        "**Exemplo com `unittest`:**"
      ]
    },
    {
      "cell_type": "code",
      "execution_count": null,
      "metadata": {
        "id": "Ug3efmZ5MFO1"
      },
      "outputs": [],
      "source": [
        "import unittest\n",
        "\n",
        "# Função que queremos testar\n",
        "def adicionar(a, b):\n",
        "  if not (isinstance(a, (int, float)) and isinstance(b, (int, float))):\n",
        "      raise TypeError(\"Ambos os argumentos devem ser números.\")\n",
        "  return a + b\n",
        "\n",
        "# Classe de teste que herda de unittest.TestCase\n",
        "class TestAdicionar(unittest.TestCase):\n",
        "\n",
        "    def test_adicionar_inteiros_positivos(self):\n",
        "        self.assertEqual(adicionar(2, 3), 5, \"Deveria ser 5\") # [cite: 2]\n",
        "\n",
        "    def test_adicionar_inteiros_negativos(self):\n",
        "        self.assertEqual(adicionar(-1, -1), -2) # [cite: 2]\n",
        "\n",
        "    def test_adicionar_numeros_mistos(self):\n",
        "        self.assertEqual(adicionar(5, -2), 3) # [cite: 2]\n",
        "        self.assertAlmostEqual(adicionar(2.5, 1.5), 4.0) # Para floats, é bom usar assertAlmostEqual\n",
        "\n",
        "    def test_adicionar_strings_levanta_typeerror(self):\n",
        "        # Verifica se chamar adicionar(\"a\", \"b\") levanta um TypeError [cite: 2]\n",
        "        with self.assertRaises(TypeError): # [cite: 2]\n",
        "            adicionar(\"a\", \"b\")\n",
        "        # Alternativamente:\n",
        "        # self.assertRaises(TypeError, adicionar, \"a\", \"b\") # [cite: 2]\n",
        "\n",
        "    def test_resultado_eh_verdadeiro_para_soma_valida(self):\n",
        "        resultado = adicionar(10, 10)\n",
        "        self.assertTrue(resultado == 20) # [cite: 2]\n",
        "\n",
        "    def test_resultado_nao_eh_falso_para_soma_valida(self):\n",
        "        resultado = adicionar(1,1)\n",
        "        self.assertFalse(resultado != 2) # [cite: 2]\n",
        "\n",
        "\n",
        "# Para rodar os testes (geralmente em um arquivo separado, ou no final do script)\n",
        "if __name__ == '__main__':\n",
        "    # Criar um \"test suite\" e rodar\n",
        "    # suite = unittest.TestSuite()\n",
        "    # suite.addTest(unittest.makeSuite(TestAdicionar))\n",
        "    # runner = unittest.TextTestRunner()\n",
        "    # runner.run(suite)\n",
        "    # Ou de forma mais simples:\n",
        "    unittest.main(argv=['first-arg-is-ignored'], exit=False) # exit=False para rodar no notebook/REPL"
      ]
    },
    {
      "cell_type": "markdown",
      "metadata": {
        "id": "XVKI-BzNMFO2"
      },
      "source": [
        "*(Para rodar `unittest.main()` em um script, você o chamaria sem argumentos ou com `argv=sys.argv`)*\n",
        "\n",
        "### Expressões Regulares (Regex)\n",
        "Sequências de caracteres que definem um padrão de busca. São extremamente poderosas para encontrar, validar e manipular strings.\n",
        "\n",
        "#### Criação de padrões para expressões regulares\n",
        "Padrões são construídos usando metacaracteres e caracteres literais.\n",
        "* **Literais**: `a`, `X`, `9`, `_`\n",
        "* **Metacaracteres**:\n",
        "    * `.` (ponto): Qualquer caractere (exceto nova linha).\n",
        "    * `^`: Início da string (ou linha no modo multiline).\n",
        "    * `$`: Fim da string (ou linha no modo multiline).\n",
        "    * `*`: Zero ou mais ocorrências do item anterior.\n",
        "    * `+`: Uma ou mais ocorrências do item anterior.\n",
        "    * `?`: Zero ou uma ocorrência do item anterior.\n",
        "    * `{m}`: Exatamente `m` ocorrências.\n",
        "    * `{m,n}`: De `m` a `n` ocorrências.\n",
        "    * `[]`: Define um conjunto de caracteres. Ex: `[abc]` (a, b, ou c), `[0-9]` (qualquer dígito).\n",
        "    * `[^...]`: Negação do conjunto. Ex: `[^0-9]` (qualquer caractere que não seja um dígito).\n",
        "    * `|`: OU lógico. Ex: `gato|cachorro`.\n",
        "    * `()`: Agrupa expressões.\n",
        "    * `\\d`: Dígito (equivalente a `[0-9]`).\n",
        "    * `\\D`: Não dígito.\n",
        "    * `\\w`: Caractere alfanumérico (letras, números e `_`).\n",
        "    * `\\W`: Não alfanumérico.\n",
        "    * `\\s`: Caractere de espaço em branco (espaço, tab, nova linha).\n",
        "    * `\\S`: Não espaço em branco.\n",
        "    * `\\b`: Limite de palavra.\n",
        "    * `\\B`: Não limite de palavra.\n",
        "\n",
        "#### Comandos (módulo `re`)\n",
        "O módulo `re` em Python fornece suporte para expressões regulares.\n",
        "\n",
        "* `re.search(padrao, string)`: Procura pelo padrão em *qualquer lugar* na string e retorna um objeto Match na primeira ocorrência, ou `None` se não encontrar.\n",
        "* `re.match(padrao, string)`: Tenta aplicar o padrão no *início* da string. Retorna um objeto Match se encontrar, ou `None` caso contrário.\n",
        "* `re.findall(padrao, string)`: Encontra *todas* as ocorrências do padrão na string e as retorna como uma lista de strings.\n",
        "* `re.split(padrao, string)`: Divide a string pelas ocorrências do padrão.\n",
        "* `re.compile(padrao)`: Compila um padrão de expressão regular em um objeto de padrão Regex, que pode ser usado para correspondência mais eficiente, especialmente se o padrão for usado várias vezes.\n",
        "* `re.sub(padrao, substituicao, string)`: Substitui as ocorrências do padrão na string pela `substituicao`.\n",
        "\n",
        "**Exemplo com `re`:**"
      ]
    },
    {
      "cell_type": "code",
      "execution_count": null,
      "metadata": {
        "id": "zZLdkdZ3MFO2"
      },
      "outputs": [],
      "source": [
        "import re\n",
        "\n",
        "texto = \"O email de contato é teste@exemplo.com e o secundário é usuario123@provedor.org. Meu telefone é (99) 99999-1234.\"\n",
        "\n",
        "# re.search() [cite: 2]\n",
        "padrao_email_search = r\"\\w+@\\w+\\.\\w+\" # Padrão simples para email\n",
        "match_obj_search = re.search(padrao_email_search, texto)\n",
        "if match_obj_search:\n",
        "  print(f\"re.search encontrou: {match_obj_search.group()}\") # teste@exemplo.com\n",
        "else:\n",
        "  print(\"re.search não encontrou email.\")\n",
        "\n",
        "# re.match() [cite: 2]\n",
        "texto_comeca_com_O = \"O rato roeu a roupa\"\n",
        "texto_nao_comeca_com_O = \" Rato roeu a roupa\"\n",
        "padrao_match = r\"O\"\n",
        "match_obj_match1 = re.match(padrao_match, texto_comeca_com_O)\n",
        "match_obj_match2 = re.match(padrao_match, texto_nao_comeca_com_O)\n",
        "if match_obj_match1:\n",
        "  print(f\"re.match (1) encontrou: {match_obj_match1.group()}\") # O\n",
        "else:\n",
        "  print(\"re.match (1) não encontrou no início.\")\n",
        "if match_obj_match2:\n",
        "  print(f\"re.match (2) encontrou: {match_obj_match2.group()}\")\n",
        "else:\n",
        "  print(\"re.match (2) não encontrou no início.\") # Esta será impressa\n",
        "\n",
        "# re.findall() [cite: 2]\n",
        "padrao_email_findall = r\"\\b[A-Za-z0-9._%+-]+@[A-Za-z0-9.-]+\\.[A-Z|a-z]{2,}\\b\" # Padrão mais robusto para email\n",
        "emails_encontrados = re.findall(padrao_email_findall, texto)\n",
        "print(f\"re.findall encontrou emails: {emails_encontrados}\") # ['teste@exemplo.com', 'usuario123@provedor.org']\n",
        "\n",
        "# re.split() [cite: 2]\n",
        "texto_para_split = \"um,dois;tres quatro\"\n",
        "partes = re.split(r\"[,;\\s]+\", texto_para_split) # Divide por vírgula, ponto e vírgula ou espaços\n",
        "print(f\"re.split resultou em: {partes}\") # ['um', 'dois', 'tres', 'quatro']\n",
        "\n",
        "# re.compile() [cite: 2]\n",
        "padrao_telefone_compilado = re.compile(r\"\\(\\d{2}\\)\\s\\d{5}-\\d{4}\") # Padrão para (XX) XXXXX-XXXX\n",
        "match_telefone = padrao_telefone_compilado.search(texto)\n",
        "if match_telefone:\n",
        "  print(f\"Telefone encontrado com padrão compilado: {match_telefone.group()}\") # (99) 99999-1234\n",
        "\n",
        "# re.sub() [cite: 2]\n",
        "texto_com_numeros = \"Agente 007 encontrou o agente 008.\"\n",
        "texto_substituido = re.sub(r\"agente \\d+\", \"ESPIÃO\", texto_com_numeros, flags=re.IGNORECASE) # flags=re.IGNORECASE para ignorar maiúsculas/minúsculas\n",
        "print(f\"re.sub substituiu: {texto_substituido}\") # ESPIÃO encontrou o ESPIÃO."
      ]
    },
    {
      "cell_type": "markdown",
      "metadata": {
        "id": "-VyatPzJMFO2"
      },
      "source": []
    },
    {
      "cell_type": "markdown",
      "metadata": {
        "id": "ppmEF_onMFO2"
      },
      "source": [
        "<div class=\"md-recitation\">\n",
        "  Sources\n",
        "  <ol>\n",
        "  <li><a href=\"https://github.com/Sldark23/ByteBuddy\">https://github.com/Sldark23/ByteBuddy</a></li>\n",
        "  <li><a href=\"https://github.com/ThaisPerdomo/facool\">https://github.com/ThaisPerdomo/facool</a></li>\n",
        "  <li><a href=\"https://github.com/jeducard/UPX\">https://github.com/jeducard/UPX</a></li>\n",
        "  </ol>\n",
        "</div>"
      ]
    }
  ],
  "metadata": {
    "colab": {
      "include_colab_link": true,
      "provenance": []
    },
    "kernelspec": {
      "display_name": "Python 3",
      "name": "python3"
    }
  },
  "nbformat": 4,
  "nbformat_minor": 0
}
